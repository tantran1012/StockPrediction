{
 "cells": [
  {
   "cell_type": "code",
   "execution_count": 2,
   "id": "8c9ad882-aa5c-41ff-a109-e119f14f512f",
   "metadata": {},
   "outputs": [],
   "source": [
    "!python StockApplication.py\n"
   ]
  },
  {
   "cell_type": "code",
   "execution_count": null,
   "id": "ef96d172-7c87-44e6-8e31-47979a628e42",
   "metadata": {},
   "outputs": [],
   "source": []
  },
  {
   "cell_type": "code",
   "execution_count": null,
   "id": "11742884-f867-4c58-9976-a3a05160e02f",
   "metadata": {},
   "outputs": [],
   "source": []
  }
 ],
 "metadata": {
  "kernelspec": {
   "display_name": "Python 3 (ipykernel)",
   "language": "python",
   "name": "python3"
  },
  "language_info": {
   "codemirror_mode": {
    "name": "ipython",
    "version": 3
   },
   "file_extension": ".py",
   "mimetype": "text/x-python",
   "name": "python",
   "nbconvert_exporter": "python",
   "pygments_lexer": "ipython3",
   "version": "3.11.4"
  }
 },
 "nbformat": 4,
 "nbformat_minor": 5
}
